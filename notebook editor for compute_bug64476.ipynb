{
  "metadata": {
    "kernelspec": {
      "name": "py-dku-venv-python",
      "display_name": "Python (env python)",
      "language": "python"
    },
    "associatedRecipe": "compute_bug64476",
    "creator": "admin",
    "createdOn": 1621415918588,
    "tags": [
      "recipe-editor",
      "TestFlo"
    ],
    "customFields": {},
    "modifiedBy": "admin"
  },
  "nbformat": 4,
  "nbformat_minor": 1,
  "cells": [
    {
      "execution_count": 0,
      "cell_type": "code",
      "metadata": {},
      "source": [
        "# -*- coding: utf-8 -*-\nimport dataiku\nimport pandas as pd, numpy as np\nfrom dataiku import pandasutils as pdu\n\n# Read recipe inputs\nholidays_calendar_prepared2_filtered \u003d dataiku.Dataset(\"holidays_calendar_prepared2_filtered\")\nholidays_calendar_prepared2_filtered_df \u003d holidays_calendar_prepared2_filtered.get_dataframe()\n\n\n# Compute recipe outputs from inputs\n# TODO: Replace this part by your actual code that computes the output, as a Pandas dataframe\n# NB: DSS also supports other kinds of APIs for reading and writing data. Please see doc.\n\nbug64476_df \u003d holidays_calendar_prepared2_filtered_df # For this sample code, simply copy input to output\n# test to see how we can handle this, not sure if it is good now\n# Now try this\n\n\n# Write recipe outputs\nbug64476 \u003d dataiku.Dataset(\"bug64476\")\nbug64476.write_with_schema(bug64476_df)"
      ],
      "outputs": []
    }
  ]
}