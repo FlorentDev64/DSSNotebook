{
  "metadata": {
    "kernelspec": {
      "display_name": "Python (env python)",
      "language": "python",
      "name": "py-dku-venv-python"
    },
    "associatedRecipe": "compute_bug64476",
    "shortdesc": "  Short desc pour voir",
    "creationTag": {
      "versionNumber": 0,
      "lastModifiedBy": {
        "login": "admin"
      },
      "lastModifiedOn": 1621513761906
    },
    "creator": "admin",
    "createdOn": 1621513761906,
    "description": "et là une longue pour voir si c\u0027est gardé d\u0027un user à l\u0027autre",
    "tags": [
      "recipe-editor"
    ],
    "customFields": {}
  },
  "nbformat": 4,
  "nbformat_minor": 0,
  "cells": [
    {
      "execution_count": 0,
      "cell_type": "code",
      "metadata": {},
      "source": [
        "# -*- coding: utf-8 -*-\n",
        "import dataiku\n",
        "import pandas as pd, numpy as np\n",
        "from dataiku import pandasutils as pdu\n",
        "\n",
        "# Read recipe inputs\n",
        "holidays_calendar_prepared2_filtered \u003d dataiku.Dataset(\"holidays_calendar_prepared2_filtered\")\n",
        "holidays_calendar_prepared2_filtered_df \u003d holidays_calendar_prepared2_filtered.get_dataframe()\n",
        "\n",
        "\n",
        "# Compute recipe outputs from inputs\n",
        "# TODO: Replace this part by your actual code that computes the output, as a Pandas dataframe\n",
        "# NB: DSS also supports other kinds of APIs for reading and writing data. Please see doc.\n",
        "\n",
        "bug64476_df \u003d holidays_calendar_prepared2_filtered_df # For this sample code, simply copy input to output\n",
        "# test to see how we can handle this, not sure if it is good now\n",
        "# Now try this\n",
        "\n",
        "\n",
        "# Write recipe outputs\n",
        "bug64476 \u003d dataiku.Dataset(\"bug64476\")\n",
        "bug64476.write_with_schema(bug64476_df)"
      ],
      "outputs": []
    }
  ]
}