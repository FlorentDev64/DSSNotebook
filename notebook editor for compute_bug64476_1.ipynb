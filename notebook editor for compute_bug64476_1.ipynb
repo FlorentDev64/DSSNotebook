{
  "metadata": {
    "kernelspec": {
      "name": "py-dku-venv-python",
      "display_name": "Python (env python)",
      "language": "python"
    },
    "associatedRecipe": "compute_bug64476_1",
    "shortdesc": "wednxfcv b,jdty",
    "creationTag": {
      "versionNumber": 0,
      "lastModifiedBy": {
        "login": "admin"
      },
      "lastModifiedOn": 1621926032036
    },
    "creator": "admin",
    "createdOn": 1621926032036,
    "description": "titi32186416\n5320brwdfb\nc 6        .description;\n 1\n es8+9j4nrwfg \n ",
    "tags": [
      "recipe-editor",
      "Bug?",
      "BigQuery"
    ],
    "customFields": {},
    "language_info": {
      "name": "python",
      "version": "3.6.10",
      "mimetype": "text/x-python",
      "codemirror_mode": {
        "name": "ipython",
        "version": 3
      },
      "pygments_lexer": "ipython3",
      "nbconvert_exporter": "python",
      "file_extension": ".py"
    },
    "modifiedBy": "admin"
  },
  "nbformat": 4,
  "nbformat_minor": 1,
  "cells": [
    {
      "execution_count": 0,
      "cell_type": "code",
      "metadata": {},
      "source": [
        "# -*- coding: utf-8 -*-\nimport dataiku\nimport pandas as pd, numpy as np\nfrom dataiku import pandasutils as pdu\n\n# Read recipe inputs FLO MODIF\nholidays_calendar_prepared2_filtered \u003d dataiku.Dataset(\"holidays_calendar_prepared2_filtered\")\nholidays_calendar_prepared2_filtered_df \u003d holidays_calendar_prepared2_filtered.get_dataframe()\n\n\n# Compute recipe outputs from inputs\n# TODO: Replace this part by your actual code that computes the output, as a Pandas dataframe\n# NB: DSS also supports other kinds of APIs for reading and writing data. Please see doc.\n\nbug64476_df \u003d holidays_calendar_prepared2_filtered_df # For this sample code, simply copy input to output\n# test to see how we can handle this, not sure if it is good no\n\n\n# Write recipe outputs\nbug64476 \u003d dataiku.Dataset(\"bug64476\")\nbug64476.write_with_schema(bug64476_df)"
      ],
      "outputs": []
    }
  ]
}
