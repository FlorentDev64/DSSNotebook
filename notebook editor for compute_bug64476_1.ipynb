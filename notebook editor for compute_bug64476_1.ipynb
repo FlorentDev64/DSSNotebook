{
  "metadata": {
    "kernelspec": {
      "display_name": "Python (env python)",
      "language": "python",
      "name": "py-dku-venv-python"
    },
    "associatedRecipe": "compute_bug64476_1",
    "creator": "admin",
    "createdOn": 1621515139667,
    "tags": [
      "recipe-editor"
    ],
    "customFields": {},
    "shortDesc": "  A short description to see how to handle this bug",
    "description": "A longer desciprition with _markdown_ inside to see how I can handle this also"
  },
  "nbformat": 4,
  "nbformat_minor": 0,
  "cells": [
    {
      "execution_count": 0,
      "cell_type": "code",
      "metadata": {},
      "source": [
        "# -*- coding: utf-8 -*-\n",
        "import dataiku\n",
        "import pandas as pd, numpy as np\n",
        "from dataiku import pandasutils as pdu\n",
        "\n",
        "# Read recipe inputs\n",
        "holidays_calendar_prepared2_filtered \u003d dataiku.Dataset(\"holidays_calendar_prepared2_filtered\")\n",
        "holidays_calendar_prepared2_filtered_df \u003d holidays_calendar_prepared2_filtered.get_dataframe()\n",
        "\n",
        "\n",
        "# Compute recipe outputs from inputs\n",
        "# TODO: Replace this part by your actual code that computes the output, as a Pandas dataframe\n",
        "# NB: DSS also supports other kinds of APIs for reading and writing data. Please see doc.\n",
        "\n",
        "bug64476_df \u003d holidays_calendar_prepared2_filtered_df # For this sample code, simply copy input to output\n",
        "# test to see how we can handle this, not sure if it is good now\n",
        "# Now try this\n",
        "\n",
        "\n",
        "# Write recipe outputs\n",
        "bug64476 \u003d dataiku.Dataset(\"bug64476\")\n",
        "bug64476.write_with_schema(bug64476_df)"
      ],
      "outputs": []
    }
  ]
}